{
 "cells": [
  {
   "cell_type": "code",
   "execution_count": 1,
   "id": "0246ff6d",
   "metadata": {},
   "outputs": [
    {
     "name": "stdout",
     "output_type": "stream",
     "text": [
      "Hello GitHub\n"
     ]
    }
   ],
   "source": [
    "print(\"Hello GitHub\")"
   ]
  },
  {
   "cell_type": "code",
   "execution_count": 2,
   "id": "f96354ea",
   "metadata": {},
   "outputs": [
    {
     "name": "stdout",
     "output_type": "stream",
     "text": [
      "Hello class!\n"
     ]
    }
   ],
   "source": [
    "print(\"Hello class!\")"
   ]
  },
  {
   "cell_type": "code",
   "execution_count": 3,
   "id": "f498fb46",
   "metadata": {},
   "outputs": [
    {
     "data": {
      "text/plain": [
       "78125"
      ]
     },
     "execution_count": 3,
     "metadata": {},
     "output_type": "execute_result"
    }
   ],
   "source": [
    "5**7"
   ]
  },
  {
   "cell_type": "code",
   "execution_count": 1,
   "id": "5d656a04",
   "metadata": {},
   "outputs": [
    {
     "name": "stdout",
     "output_type": "stream",
     "text": [
      "This is a different branch!!\n"
     ]
    }
   ],
   "source": [
    "print(\"This is a different branch!!\")"
   ]
  },
  {
   "cell_type": "code",
   "execution_count": 2,
   "id": "8551be83",
   "metadata": {},
   "outputs": [
    {
     "name": "stdout",
     "output_type": "stream",
     "text": [
      "This is the main branch\n"
     ]
    }
   ],
   "source": [
    "print(\"This is the main branch\")"
   ]
  },
  {
   "cell_type": "code",
   "execution_count": 3,
   "id": "ff5618fb",
   "metadata": {},
   "outputs": [
    {
     "data": {
      "text/plain": [
       "36"
      ]
     },
     "execution_count": 3,
     "metadata": {},
     "output_type": "execute_result"
    }
   ],
   "source": [
    "6*6",
    "print(\"This is still a different branch\")"
   ]
  },
  {
   "cell_type": "code",
   "execution_count": null,
   "id": "315fc18b",
   "metadata": {},
   "outputs": [],
   "source": []
  }
 ],
 "metadata": {
  "kernelspec": {
   "display_name": "Python 3 (ipykernel)",
   "language": "python",
   "name": "python3"
  },
  "language_info": {
   "codemirror_mode": {
    "name": "ipython",
    "version": 3
   },
   "file_extension": ".py",
   "mimetype": "text/x-python",
   "name": "python",
   "nbconvert_exporter": "python",
   "pygments_lexer": "ipython3",
   "version": "3.10.9"
  }
 },
 "nbformat": 4,
 "nbformat_minor": 5
}
