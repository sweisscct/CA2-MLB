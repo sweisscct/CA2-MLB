{
 "cells": [
  {
   "cell_type": "code",
   "execution_count": 1,
   "id": "0246ff6d",
   "metadata": {},
   "outputs": [
    {
     "name": "stdout",
     "output_type": "stream",
     "text": [
      "Hello GitHub\n"
     ]
    }
   ],
   "source": [
    "print(\"Hello GitHub\")"
   ]
  },
  {
   "cell_type": "code",
   "execution_count": 2,
   "id": "f96354ea",
   "metadata": {},
   "outputs": [
    {
     "name": "stdout",
     "output_type": "stream",
     "text": [
      "Hello class!\n"
     ]
    }
   ],
   "source": [
    "print(\"Hello class!\")"
   ]
  },
  {
   "cell_type": "code",
   "execution_count": 3,
   "id": "f498fb46",
   "metadata": {},
   "outputs": [
    {
     "data": {
      "text/plain": [
       "78125"
      ]
     },
     "execution_count": 3,
     "metadata": {},
     "output_type": "execute_result"
    }
   ],
   "source": [
    "5**7"
   ]
  },
  {
   "cell_type": "code",
   "execution_count": null,
   "id": "5d656a04",
   "metadata": {},
   "outputs": [],
   "source": [
    "print(\"This is the main branch\")"
   ]
  }
 ],
 "metadata": {
  "kernelspec": {
   "display_name": "Python 3 (ipykernel)",
   "language": "python",
   "name": "python3"
  },
  "language_info": {
   "codemirror_mode": {
    "name": "ipython",
    "version": 3
   },
   "file_extension": ".py",
   "mimetype": "text/x-python",
   "name": "python",
   "nbconvert_exporter": "python",
   "pygments_lexer": "ipython3",
   "version": "3.10.9"
  }
 },
 "nbformat": 4,
 "nbformat_minor": 5
}
